{
 "cells": [
  {
   "cell_type": "code",
   "execution_count": 1,
   "id": "086896e8",
   "metadata": {},
   "outputs": [],
   "source": [
    "import pandas as pd\n",
    "import numpy as np\n",
    "import matplotlib.pyplot as plt\n",
    "import seaborn\n",
    "import datetime as dt"
   ]
  },
  {
   "cell_type": "markdown",
   "id": "94d7dcec",
   "metadata": {},
   "source": [
    "# LOAD DATASET "
   ]
  },
  {
   "cell_type": "code",
   "execution_count": 2,
   "id": "4cbffea0",
   "metadata": {},
   "outputs": [],
   "source": [
    "# Load Dataset\n",
    "df = pd.read_csv(\"soccer21-22.csv\")"
   ]
  },
  {
   "cell_type": "markdown",
   "id": "34ffeefa",
   "metadata": {},
   "source": [
    "# DATA WRANGLING, CLEANING AND FEATURE ENGINEERING"
   ]
  },
  {
   "cell_type": "code",
   "execution_count": 3,
   "id": "d3a61668",
   "metadata": {},
   "outputs": [
    {
     "data": {
      "text/html": [
       "<div>\n",
       "<style scoped>\n",
       "    .dataframe tbody tr th:only-of-type {\n",
       "        vertical-align: middle;\n",
       "    }\n",
       "\n",
       "    .dataframe tbody tr th {\n",
       "        vertical-align: top;\n",
       "    }\n",
       "\n",
       "    .dataframe thead th {\n",
       "        text-align: right;\n",
       "    }\n",
       "</style>\n",
       "<table border=\"1\" class=\"dataframe\">\n",
       "  <thead>\n",
       "    <tr style=\"text-align: right;\">\n",
       "      <th></th>\n",
       "      <th>Date</th>\n",
       "      <th>HomeTeam</th>\n",
       "      <th>AwayTeam</th>\n",
       "      <th>FTHG</th>\n",
       "      <th>FTAG</th>\n",
       "      <th>FTR</th>\n",
       "      <th>HTHG</th>\n",
       "      <th>HTAG</th>\n",
       "      <th>HTR</th>\n",
       "      <th>Referee</th>\n",
       "      <th>...</th>\n",
       "      <th>HST</th>\n",
       "      <th>AST</th>\n",
       "      <th>HF</th>\n",
       "      <th>AF</th>\n",
       "      <th>HC</th>\n",
       "      <th>AC</th>\n",
       "      <th>HY</th>\n",
       "      <th>AY</th>\n",
       "      <th>HR</th>\n",
       "      <th>AR</th>\n",
       "    </tr>\n",
       "  </thead>\n",
       "  <tbody>\n",
       "    <tr>\n",
       "      <th>0</th>\n",
       "      <td>13/08/2021</td>\n",
       "      <td>Brentford</td>\n",
       "      <td>Arsenal</td>\n",
       "      <td>2</td>\n",
       "      <td>0</td>\n",
       "      <td>H</td>\n",
       "      <td>1</td>\n",
       "      <td>0</td>\n",
       "      <td>H</td>\n",
       "      <td>M Oliver</td>\n",
       "      <td>...</td>\n",
       "      <td>3</td>\n",
       "      <td>4</td>\n",
       "      <td>12</td>\n",
       "      <td>8</td>\n",
       "      <td>2</td>\n",
       "      <td>5</td>\n",
       "      <td>0</td>\n",
       "      <td>0</td>\n",
       "      <td>0</td>\n",
       "      <td>0</td>\n",
       "    </tr>\n",
       "    <tr>\n",
       "      <th>1</th>\n",
       "      <td>14/08/2021</td>\n",
       "      <td>Man United</td>\n",
       "      <td>Leeds</td>\n",
       "      <td>5</td>\n",
       "      <td>1</td>\n",
       "      <td>H</td>\n",
       "      <td>1</td>\n",
       "      <td>0</td>\n",
       "      <td>H</td>\n",
       "      <td>P Tierney</td>\n",
       "      <td>...</td>\n",
       "      <td>8</td>\n",
       "      <td>3</td>\n",
       "      <td>11</td>\n",
       "      <td>9</td>\n",
       "      <td>5</td>\n",
       "      <td>4</td>\n",
       "      <td>1</td>\n",
       "      <td>2</td>\n",
       "      <td>0</td>\n",
       "      <td>0</td>\n",
       "    </tr>\n",
       "    <tr>\n",
       "      <th>2</th>\n",
       "      <td>14/08/2021</td>\n",
       "      <td>Burnley</td>\n",
       "      <td>Brighton</td>\n",
       "      <td>1</td>\n",
       "      <td>2</td>\n",
       "      <td>A</td>\n",
       "      <td>1</td>\n",
       "      <td>0</td>\n",
       "      <td>H</td>\n",
       "      <td>D Coote</td>\n",
       "      <td>...</td>\n",
       "      <td>3</td>\n",
       "      <td>8</td>\n",
       "      <td>10</td>\n",
       "      <td>7</td>\n",
       "      <td>7</td>\n",
       "      <td>6</td>\n",
       "      <td>2</td>\n",
       "      <td>1</td>\n",
       "      <td>0</td>\n",
       "      <td>0</td>\n",
       "    </tr>\n",
       "    <tr>\n",
       "      <th>3</th>\n",
       "      <td>14/08/2021</td>\n",
       "      <td>Chelsea</td>\n",
       "      <td>Crystal Palace</td>\n",
       "      <td>3</td>\n",
       "      <td>0</td>\n",
       "      <td>H</td>\n",
       "      <td>2</td>\n",
       "      <td>0</td>\n",
       "      <td>H</td>\n",
       "      <td>J Moss</td>\n",
       "      <td>...</td>\n",
       "      <td>6</td>\n",
       "      <td>1</td>\n",
       "      <td>15</td>\n",
       "      <td>11</td>\n",
       "      <td>5</td>\n",
       "      <td>2</td>\n",
       "      <td>0</td>\n",
       "      <td>0</td>\n",
       "      <td>0</td>\n",
       "      <td>0</td>\n",
       "    </tr>\n",
       "    <tr>\n",
       "      <th>4</th>\n",
       "      <td>14/08/2021</td>\n",
       "      <td>Everton</td>\n",
       "      <td>Southampton</td>\n",
       "      <td>3</td>\n",
       "      <td>1</td>\n",
       "      <td>H</td>\n",
       "      <td>0</td>\n",
       "      <td>1</td>\n",
       "      <td>A</td>\n",
       "      <td>A Madley</td>\n",
       "      <td>...</td>\n",
       "      <td>6</td>\n",
       "      <td>3</td>\n",
       "      <td>13</td>\n",
       "      <td>15</td>\n",
       "      <td>6</td>\n",
       "      <td>8</td>\n",
       "      <td>2</td>\n",
       "      <td>0</td>\n",
       "      <td>0</td>\n",
       "      <td>0</td>\n",
       "    </tr>\n",
       "  </tbody>\n",
       "</table>\n",
       "<p>5 rows × 22 columns</p>\n",
       "</div>"
      ],
      "text/plain": [
       "         Date    HomeTeam        AwayTeam  FTHG  FTAG FTR  HTHG  HTAG HTR  \\\n",
       "0  13/08/2021   Brentford         Arsenal     2     0   H     1     0   H   \n",
       "1  14/08/2021  Man United           Leeds     5     1   H     1     0   H   \n",
       "2  14/08/2021     Burnley        Brighton     1     2   A     1     0   H   \n",
       "3  14/08/2021     Chelsea  Crystal Palace     3     0   H     2     0   H   \n",
       "4  14/08/2021     Everton     Southampton     3     1   H     0     1   A   \n",
       "\n",
       "     Referee  ...  HST  AST  HF  AF  HC  AC  HY  AY  HR  AR  \n",
       "0   M Oliver  ...    3    4  12   8   2   5   0   0   0   0  \n",
       "1  P Tierney  ...    8    3  11   9   5   4   1   2   0   0  \n",
       "2    D Coote  ...    3    8  10   7   7   6   2   1   0   0  \n",
       "3     J Moss  ...    6    1  15  11   5   2   0   0   0   0  \n",
       "4   A Madley  ...    6    3  13  15   6   8   2   0   0   0  \n",
       "\n",
       "[5 rows x 22 columns]"
      ]
     },
     "execution_count": 3,
     "metadata": {},
     "output_type": "execute_result"
    }
   ],
   "source": [
    "# Test\n",
    "df.head()"
   ]
  },
  {
   "cell_type": "code",
   "execution_count": 4,
   "id": "16a804a2",
   "metadata": {},
   "outputs": [],
   "source": [
    "# To Cut the dataset to make it readable\n",
    "ndf = pd.DataFrame(df, columns=[\"Date\", \"HomeTeam\", \"AwayTeam\", \"FTHG\", \"FTAG\", \"FTR\", \"HTHG\", \"HTAG\", \"HTR\", \"Referee\"])"
   ]
  },
  {
   "cell_type": "code",
   "execution_count": 5,
   "id": "d790bae7",
   "metadata": {},
   "outputs": [
    {
     "data": {
      "text/html": [
       "<div>\n",
       "<style scoped>\n",
       "    .dataframe tbody tr th:only-of-type {\n",
       "        vertical-align: middle;\n",
       "    }\n",
       "\n",
       "    .dataframe tbody tr th {\n",
       "        vertical-align: top;\n",
       "    }\n",
       "\n",
       "    .dataframe thead th {\n",
       "        text-align: right;\n",
       "    }\n",
       "</style>\n",
       "<table border=\"1\" class=\"dataframe\">\n",
       "  <thead>\n",
       "    <tr style=\"text-align: right;\">\n",
       "      <th></th>\n",
       "      <th>Date</th>\n",
       "      <th>HomeTeam</th>\n",
       "      <th>AwayTeam</th>\n",
       "      <th>FTHG</th>\n",
       "      <th>FTAG</th>\n",
       "      <th>FTR</th>\n",
       "      <th>HTHG</th>\n",
       "      <th>HTAG</th>\n",
       "      <th>HTR</th>\n",
       "      <th>Referee</th>\n",
       "    </tr>\n",
       "  </thead>\n",
       "  <tbody>\n",
       "    <tr>\n",
       "      <th>0</th>\n",
       "      <td>13/08/2021</td>\n",
       "      <td>Brentford</td>\n",
       "      <td>Arsenal</td>\n",
       "      <td>2</td>\n",
       "      <td>0</td>\n",
       "      <td>H</td>\n",
       "      <td>1</td>\n",
       "      <td>0</td>\n",
       "      <td>H</td>\n",
       "      <td>M Oliver</td>\n",
       "    </tr>\n",
       "    <tr>\n",
       "      <th>1</th>\n",
       "      <td>14/08/2021</td>\n",
       "      <td>Man United</td>\n",
       "      <td>Leeds</td>\n",
       "      <td>5</td>\n",
       "      <td>1</td>\n",
       "      <td>H</td>\n",
       "      <td>1</td>\n",
       "      <td>0</td>\n",
       "      <td>H</td>\n",
       "      <td>P Tierney</td>\n",
       "    </tr>\n",
       "    <tr>\n",
       "      <th>2</th>\n",
       "      <td>14/08/2021</td>\n",
       "      <td>Burnley</td>\n",
       "      <td>Brighton</td>\n",
       "      <td>1</td>\n",
       "      <td>2</td>\n",
       "      <td>A</td>\n",
       "      <td>1</td>\n",
       "      <td>0</td>\n",
       "      <td>H</td>\n",
       "      <td>D Coote</td>\n",
       "    </tr>\n",
       "    <tr>\n",
       "      <th>3</th>\n",
       "      <td>14/08/2021</td>\n",
       "      <td>Chelsea</td>\n",
       "      <td>Crystal Palace</td>\n",
       "      <td>3</td>\n",
       "      <td>0</td>\n",
       "      <td>H</td>\n",
       "      <td>2</td>\n",
       "      <td>0</td>\n",
       "      <td>H</td>\n",
       "      <td>J Moss</td>\n",
       "    </tr>\n",
       "    <tr>\n",
       "      <th>4</th>\n",
       "      <td>14/08/2021</td>\n",
       "      <td>Everton</td>\n",
       "      <td>Southampton</td>\n",
       "      <td>3</td>\n",
       "      <td>1</td>\n",
       "      <td>H</td>\n",
       "      <td>0</td>\n",
       "      <td>1</td>\n",
       "      <td>A</td>\n",
       "      <td>A Madley</td>\n",
       "    </tr>\n",
       "  </tbody>\n",
       "</table>\n",
       "</div>"
      ],
      "text/plain": [
       "         Date    HomeTeam        AwayTeam  FTHG  FTAG FTR  HTHG  HTAG HTR  \\\n",
       "0  13/08/2021   Brentford         Arsenal     2     0   H     1     0   H   \n",
       "1  14/08/2021  Man United           Leeds     5     1   H     1     0   H   \n",
       "2  14/08/2021     Burnley        Brighton     1     2   A     1     0   H   \n",
       "3  14/08/2021     Chelsea  Crystal Palace     3     0   H     2     0   H   \n",
       "4  14/08/2021     Everton     Southampton     3     1   H     0     1   A   \n",
       "\n",
       "     Referee  \n",
       "0   M Oliver  \n",
       "1  P Tierney  \n",
       "2    D Coote  \n",
       "3     J Moss  \n",
       "4   A Madley  "
      ]
     },
     "execution_count": 5,
     "metadata": {},
     "output_type": "execute_result"
    }
   ],
   "source": [
    "# Test \n",
    "ndf.head()"
   ]
  },
  {
   "cell_type": "code",
   "execution_count": 6,
   "id": "51377550",
   "metadata": {},
   "outputs": [],
   "source": [
    "# To save dataset\n",
    "ndf.to_csv(\"2021-2022_Premier_League_Soccer.xlx.csv\")"
   ]
  },
  {
   "cell_type": "code",
   "execution_count": 7,
   "id": "e4c967fb",
   "metadata": {},
   "outputs": [
    {
     "data": {
      "text/plain": [
       "Date\n",
       "22/05/2022    10\n",
       "11/09/2021     8\n",
       "19/02/2022     8\n",
       "20/11/2021     8\n",
       "25/09/2021     7\n",
       "              ..\n",
       "18/03/2022     1\n",
       "19/03/2022     1\n",
       "06/12/2021     1\n",
       "21/01/2022     1\n",
       "13/08/2021     1\n",
       "Name: count, Length: 123, dtype: int64"
      ]
     },
     "execution_count": 7,
     "metadata": {},
     "output_type": "execute_result"
    }
   ],
   "source": [
    "# Check for invalid values\n",
    "ndf[\"Date\"].value_counts()"
   ]
  },
  {
   "cell_type": "code",
   "execution_count": 8,
   "id": "6ad7c7c5",
   "metadata": {},
   "outputs": [
    {
     "data": {
      "text/plain": [
       "0"
      ]
     },
     "execution_count": 8,
     "metadata": {},
     "output_type": "execute_result"
    }
   ],
   "source": [
    "# Check missing values\n",
    "ndf[\"Date\"].isnull().sum()"
   ]
  },
  {
   "cell_type": "code",
   "execution_count": 9,
   "id": "9c0d8f50",
   "metadata": {},
   "outputs": [
    {
     "data": {
      "text/plain": [
       "Date        0\n",
       "HomeTeam    0\n",
       "AwayTeam    0\n",
       "FTHG        0\n",
       "FTAG        0\n",
       "FTR         0\n",
       "HTHG        0\n",
       "HTAG        0\n",
       "HTR         0\n",
       "Referee     0\n",
       "dtype: int64"
      ]
     },
     "execution_count": 9,
     "metadata": {},
     "output_type": "execute_result"
    }
   ],
   "source": [
    "# Check overall missing values of dataset\n",
    "ndf.isnull().sum()"
   ]
  },
  {
   "cell_type": "code",
   "execution_count": 10,
   "id": "d354bcef",
   "metadata": {},
   "outputs": [
    {
     "data": {
      "text/plain": [
       "0"
      ]
     },
     "execution_count": 10,
     "metadata": {},
     "output_type": "execute_result"
    }
   ],
   "source": [
    "# Check duplicate values of the whole dataset\n",
    "ndf.duplicated().sum()"
   ]
  },
  {
   "cell_type": "code",
   "execution_count": 11,
   "id": "5de601d4",
   "metadata": {},
   "outputs": [
    {
     "name": "stdout",
     "output_type": "stream",
     "text": [
      "<class 'pandas.core.frame.DataFrame'>\n",
      "RangeIndex: 380 entries, 0 to 379\n",
      "Data columns (total 10 columns):\n",
      " #   Column    Non-Null Count  Dtype \n",
      "---  ------    --------------  ----- \n",
      " 0   Date      380 non-null    object\n",
      " 1   HomeTeam  380 non-null    object\n",
      " 2   AwayTeam  380 non-null    object\n",
      " 3   FTHG      380 non-null    int64 \n",
      " 4   FTAG      380 non-null    int64 \n",
      " 5   FTR       380 non-null    object\n",
      " 6   HTHG      380 non-null    int64 \n",
      " 7   HTAG      380 non-null    int64 \n",
      " 8   HTR       380 non-null    object\n",
      " 9   Referee   380 non-null    object\n",
      "dtypes: int64(4), object(6)\n",
      "memory usage: 29.8+ KB\n"
     ]
    }
   ],
   "source": [
    "# General information about dataset\n",
    "ndf.info()"
   ]
  },
  {
   "cell_type": "markdown",
   "id": "d132db99",
   "metadata": {},
   "source": [
    "### 1. Remove invalid values and convert Date column into Datetime64."
   ]
  },
  {
   "cell_type": "code",
   "execution_count": 12,
   "id": "70825514",
   "metadata": {},
   "outputs": [],
   "source": [
    "# Convert Date column to Datetime64\n",
    "ndf[\"Date\"] = pd.to_datetime(ndf[\"Date\"], dayfirst=True)"
   ]
  },
  {
   "cell_type": "code",
   "execution_count": 13,
   "id": "f14320a5",
   "metadata": {},
   "outputs": [
    {
     "data": {
      "text/plain": [
       "HomeTeam\n",
       "Brentford         19\n",
       "Man United        19\n",
       "Arsenal           19\n",
       "Wolves            19\n",
       "Southampton       19\n",
       "Brighton          19\n",
       "Man City          19\n",
       "Leeds             19\n",
       "Crystal Palace    19\n",
       "Aston Villa       19\n",
       "Liverpool         19\n",
       "Tottenham         19\n",
       "Newcastle         19\n",
       "Norwich           19\n",
       "Watford           19\n",
       "Leicester         19\n",
       "Everton           19\n",
       "Chelsea           19\n",
       "Burnley           19\n",
       "West Ham          19\n",
       "Name: count, dtype: int64"
      ]
     },
     "execution_count": 13,
     "metadata": {},
     "output_type": "execute_result"
    }
   ],
   "source": [
    "# Check invalid values in the HomeTeam column\n",
    "ndf[\"HomeTeam\"].value_counts()"
   ]
  },
  {
   "cell_type": "code",
   "execution_count": 14,
   "id": "f8e7a591",
   "metadata": {},
   "outputs": [
    {
     "data": {
      "text/plain": [
       "AwayTeam\n",
       "Arsenal           19\n",
       "Leeds             19\n",
       "Chelsea           19\n",
       "Tottenham         19\n",
       "Man United        19\n",
       "Watford           19\n",
       "Norwich           19\n",
       "Everton           19\n",
       "Brentford         19\n",
       "Newcastle         19\n",
       "Burnley           19\n",
       "Man City          19\n",
       "West Ham          19\n",
       "Liverpool         19\n",
       "Aston Villa       19\n",
       "Wolves            19\n",
       "Southampton       19\n",
       "Crystal Palace    19\n",
       "Brighton          19\n",
       "Leicester         19\n",
       "Name: count, dtype: int64"
      ]
     },
     "execution_count": 14,
     "metadata": {},
     "output_type": "execute_result"
    }
   ],
   "source": [
    "# Check invalid values in the AwayTeam column\n",
    "ndf[\"AwayTeam\"].value_counts()"
   ]
  },
  {
   "cell_type": "code",
   "execution_count": 15,
   "id": "ee317269",
   "metadata": {},
   "outputs": [
    {
     "data": {
      "text/plain": [
       "FTHG\n",
       "1    121\n",
       "0     93\n",
       "2     89\n",
       "3     50\n",
       "4     15\n",
       "5      8\n",
       "7      2\n",
       "6      2\n",
       "Name: count, dtype: int64"
      ]
     },
     "execution_count": 15,
     "metadata": {},
     "output_type": "execute_result"
    }
   ],
   "source": [
    "# Check invalid values\n",
    "ndf[\"FTHG\"].value_counts()"
   ]
  },
  {
   "cell_type": "markdown",
   "id": "a17e48a4",
   "metadata": {},
   "source": [
    "### 2. Convert numerical columns to low datatypes to save memory. "
   ]
  },
  {
   "cell_type": "code",
   "execution_count": 16,
   "id": "05fe1fb4",
   "metadata": {},
   "outputs": [],
   "source": [
    "# Convert dtypes to save memory\n",
    "ndf[\"FTHG\"] = ndf[\"FTHG\"].astype(\"int32\")\n",
    "ndf[\"FTAG\"] = ndf[\"FTAG\"].astype(\"int32\")\n",
    "ndf[\"HTHG\"] = ndf[\"HTHG\"].astype(\"int32\")\n",
    "ndf[\"HTAG\"] = ndf[\"HTAG\"].astype(\"int32\")"
   ]
  },
  {
   "cell_type": "code",
   "execution_count": 17,
   "id": "3d6a258e",
   "metadata": {},
   "outputs": [
    {
     "name": "stdout",
     "output_type": "stream",
     "text": [
      "<class 'pandas.core.frame.DataFrame'>\n",
      "RangeIndex: 380 entries, 0 to 379\n",
      "Data columns (total 10 columns):\n",
      " #   Column    Non-Null Count  Dtype         \n",
      "---  ------    --------------  -----         \n",
      " 0   Date      380 non-null    datetime64[ns]\n",
      " 1   HomeTeam  380 non-null    object        \n",
      " 2   AwayTeam  380 non-null    object        \n",
      " 3   FTHG      380 non-null    int32         \n",
      " 4   FTAG      380 non-null    int32         \n",
      " 5   FTR       380 non-null    object        \n",
      " 6   HTHG      380 non-null    int32         \n",
      " 7   HTAG      380 non-null    int32         \n",
      " 8   HTR       380 non-null    object        \n",
      " 9   Referee   380 non-null    object        \n",
      "dtypes: datetime64[ns](1), int32(4), object(5)\n",
      "memory usage: 23.9+ KB\n"
     ]
    }
   ],
   "source": [
    "# Test\n",
    "ndf.info()"
   ]
  },
  {
   "cell_type": "markdown",
   "id": "56315b10",
   "metadata": {},
   "source": [
    "## FEATURE ENGINEERING"
   ]
  },
  {
   "cell_type": "markdown",
   "id": "ba74e786",
   "metadata": {},
   "source": [
    "### 3. Create month column using feature engineering "
   ]
  },
  {
   "cell_type": "code",
   "execution_count": 18,
   "id": "ad94abe3",
   "metadata": {},
   "outputs": [],
   "source": [
    "# Create month column\n",
    "ndf[\"Month\"] = ndf[\"Date\"].dt.month_name()"
   ]
  },
  {
   "cell_type": "markdown",
   "id": "f50db505",
   "metadata": {},
   "source": [
    "### 4. Create total goals column. "
   ]
  },
  {
   "cell_type": "code",
   "execution_count": 19,
   "id": "d594d797",
   "metadata": {},
   "outputs": [],
   "source": [
    "# New column\n",
    "ndf[\"TotalGoals\"] = ndf[\"FTHG\"] + ndf[\"FTAG\"]"
   ]
  },
  {
   "cell_type": "code",
   "execution_count": 20,
   "id": "bbc5121f",
   "metadata": {},
   "outputs": [
    {
     "data": {
      "text/html": [
       "<div>\n",
       "<style scoped>\n",
       "    .dataframe tbody tr th:only-of-type {\n",
       "        vertical-align: middle;\n",
       "    }\n",
       "\n",
       "    .dataframe tbody tr th {\n",
       "        vertical-align: top;\n",
       "    }\n",
       "\n",
       "    .dataframe thead th {\n",
       "        text-align: right;\n",
       "    }\n",
       "</style>\n",
       "<table border=\"1\" class=\"dataframe\">\n",
       "  <thead>\n",
       "    <tr style=\"text-align: right;\">\n",
       "      <th></th>\n",
       "      <th>Date</th>\n",
       "      <th>HomeTeam</th>\n",
       "      <th>AwayTeam</th>\n",
       "      <th>FTHG</th>\n",
       "      <th>FTAG</th>\n",
       "      <th>FTR</th>\n",
       "      <th>HTHG</th>\n",
       "      <th>HTAG</th>\n",
       "      <th>HTR</th>\n",
       "      <th>Referee</th>\n",
       "      <th>Month</th>\n",
       "      <th>TotalGoals</th>\n",
       "    </tr>\n",
       "  </thead>\n",
       "  <tbody>\n",
       "    <tr>\n",
       "      <th>0</th>\n",
       "      <td>2021-08-13</td>\n",
       "      <td>Brentford</td>\n",
       "      <td>Arsenal</td>\n",
       "      <td>2</td>\n",
       "      <td>0</td>\n",
       "      <td>H</td>\n",
       "      <td>1</td>\n",
       "      <td>0</td>\n",
       "      <td>H</td>\n",
       "      <td>M Oliver</td>\n",
       "      <td>August</td>\n",
       "      <td>2</td>\n",
       "    </tr>\n",
       "    <tr>\n",
       "      <th>1</th>\n",
       "      <td>2021-08-14</td>\n",
       "      <td>Man United</td>\n",
       "      <td>Leeds</td>\n",
       "      <td>5</td>\n",
       "      <td>1</td>\n",
       "      <td>H</td>\n",
       "      <td>1</td>\n",
       "      <td>0</td>\n",
       "      <td>H</td>\n",
       "      <td>P Tierney</td>\n",
       "      <td>August</td>\n",
       "      <td>6</td>\n",
       "    </tr>\n",
       "    <tr>\n",
       "      <th>2</th>\n",
       "      <td>2021-08-14</td>\n",
       "      <td>Burnley</td>\n",
       "      <td>Brighton</td>\n",
       "      <td>1</td>\n",
       "      <td>2</td>\n",
       "      <td>A</td>\n",
       "      <td>1</td>\n",
       "      <td>0</td>\n",
       "      <td>H</td>\n",
       "      <td>D Coote</td>\n",
       "      <td>August</td>\n",
       "      <td>3</td>\n",
       "    </tr>\n",
       "    <tr>\n",
       "      <th>3</th>\n",
       "      <td>2021-08-14</td>\n",
       "      <td>Chelsea</td>\n",
       "      <td>Crystal Palace</td>\n",
       "      <td>3</td>\n",
       "      <td>0</td>\n",
       "      <td>H</td>\n",
       "      <td>2</td>\n",
       "      <td>0</td>\n",
       "      <td>H</td>\n",
       "      <td>J Moss</td>\n",
       "      <td>August</td>\n",
       "      <td>3</td>\n",
       "    </tr>\n",
       "    <tr>\n",
       "      <th>4</th>\n",
       "      <td>2021-08-14</td>\n",
       "      <td>Everton</td>\n",
       "      <td>Southampton</td>\n",
       "      <td>3</td>\n",
       "      <td>1</td>\n",
       "      <td>H</td>\n",
       "      <td>0</td>\n",
       "      <td>1</td>\n",
       "      <td>A</td>\n",
       "      <td>A Madley</td>\n",
       "      <td>August</td>\n",
       "      <td>4</td>\n",
       "    </tr>\n",
       "  </tbody>\n",
       "</table>\n",
       "</div>"
      ],
      "text/plain": [
       "        Date    HomeTeam        AwayTeam  FTHG  FTAG FTR  HTHG  HTAG HTR  \\\n",
       "0 2021-08-13   Brentford         Arsenal     2     0   H     1     0   H   \n",
       "1 2021-08-14  Man United           Leeds     5     1   H     1     0   H   \n",
       "2 2021-08-14     Burnley        Brighton     1     2   A     1     0   H   \n",
       "3 2021-08-14     Chelsea  Crystal Palace     3     0   H     2     0   H   \n",
       "4 2021-08-14     Everton     Southampton     3     1   H     0     1   A   \n",
       "\n",
       "     Referee   Month  TotalGoals  \n",
       "0   M Oliver  August           2  \n",
       "1  P Tierney  August           6  \n",
       "2    D Coote  August           3  \n",
       "3     J Moss  August           3  \n",
       "4   A Madley  August           4  "
      ]
     },
     "execution_count": 20,
     "metadata": {},
     "output_type": "execute_result"
    }
   ],
   "source": [
    "# Test\n",
    "ndf.head()"
   ]
  },
  {
   "cell_type": "markdown",
   "id": "97dc6173",
   "metadata": {},
   "source": [
    "# DATA ANALYSIS"
   ]
  },
  {
   "cell_type": "markdown",
   "id": "d73893e5",
   "metadata": {},
   "source": [
    "### 1. Find average goals per match? "
   ]
  },
  {
   "cell_type": "code",
   "execution_count": 21,
   "id": "6787bdec",
   "metadata": {},
   "outputs": [
    {
     "data": {
      "text/plain": [
       "2.818421052631579"
      ]
     },
     "execution_count": 21,
     "metadata": {},
     "output_type": "execute_result"
    }
   ],
   "source": [
    "# Average goals per match\n",
    "(ndf[\"FTHG\"] + ndf[\"FTAG\"]).mean()"
   ]
  },
  {
   "cell_type": "markdown",
   "id": "067d96a3",
   "metadata": {},
   "source": [
    "### 2. Find average goals per season?"
   ]
  },
  {
   "cell_type": "code",
   "execution_count": 23,
   "id": "d8fd659b",
   "metadata": {},
   "outputs": [
    {
     "data": {
      "text/plain": [
       "Date\n",
       "2021-08-13    2.000000\n",
       "2021-08-14    3.571429\n",
       "2021-08-15    3.500000\n",
       "2021-08-21    2.500000\n",
       "2021-08-22    1.666667\n",
       "                ...   \n",
       "2022-05-15    3.142857\n",
       "2022-05-16    2.000000\n",
       "2022-05-17    3.000000\n",
       "2022-05-19    3.000000\n",
       "2022-05-22    3.900000\n",
       "Name: TotalGoals, Length: 123, dtype: float64"
      ]
     },
     "execution_count": 23,
     "metadata": {},
     "output_type": "execute_result"
    }
   ],
   "source": [
    "# Average goals per season\n",
    "ndf.groupby(\"Date\")[\"TotalGoals\"].mean()"
   ]
  },
  {
   "cell_type": "markdown",
   "id": "0050e6f9",
   "metadata": {},
   "source": [
    "### 3. Find biggest match difference?"
   ]
  },
  {
   "cell_type": "code",
   "execution_count": 27,
   "id": "04757909",
   "metadata": {},
   "outputs": [
    {
     "data": {
      "text/plain": [
       "7"
      ]
     },
     "execution_count": 27,
     "metadata": {},
     "output_type": "execute_result"
    }
   ],
   "source": [
    "# HomeTeam\n",
    "(ndf[\"FTHG\"] - ndf[\"FTAG\"]).max()"
   ]
  },
  {
   "cell_type": "code",
   "execution_count": 28,
   "id": "19c1657d",
   "metadata": {},
   "outputs": [
    {
     "data": {
      "text/plain": [
       "6"
      ]
     },
     "execution_count": 28,
     "metadata": {},
     "output_type": "execute_result"
    }
   ],
   "source": [
    "# AwayTeam\n",
    "(ndf[\"FTAG\"] - ndf[\"FTHG\"]).max()"
   ]
  },
  {
   "cell_type": "markdown",
   "id": "44c5b0e1",
   "metadata": {},
   "source": [
    "### 4. Which is the team with most away wins? "
   ]
  },
  {
   "cell_type": "code",
   "execution_count": 47,
   "id": "240b2237",
   "metadata": {},
   "outputs": [
    {
     "data": {
      "text/plain": [
       "AwayTeam\n",
       "Man City    10\n",
       "Name: count, dtype: int64"
      ]
     },
     "execution_count": 47,
     "metadata": {},
     "output_type": "execute_result"
    }
   ],
   "source": [
    "ndf.loc[ndf[\"HTR\"] == \"A\"][\"AwayTeam\"].value_counts().sort_values(ascending=False).head(1)\n",
    "# Another way to fetch\n",
    "# ndf[ndf[\"HTR\"] == \"A\"][\"AwayTeam\"].value_counts().sort_values(ascending=False).head(1)"
   ]
  },
  {
   "cell_type": "markdown",
   "id": "29b6845c",
   "metadata": {},
   "source": [
    "### 5. Which is the team with most goals scored at home?"
   ]
  },
  {
   "cell_type": "code",
   "execution_count": 51,
   "id": "4ff56254",
   "metadata": {},
   "outputs": [
    {
     "data": {
      "text/plain": [
       "HomeTeam\n",
       "Man City    58\n",
       "Name: FTHG, dtype: int32"
      ]
     },
     "execution_count": 51,
     "metadata": {},
     "output_type": "execute_result"
    }
   ],
   "source": [
    "# Team with most goals\n",
    "ndf.groupby(\"HomeTeam\")[\"FTHG\"].sum().sort_values(ascending=False).head(1)"
   ]
  },
  {
   "cell_type": "markdown",
   "id": "5fb1df00",
   "metadata": {},
   "source": [
    "### 6. Find the team with least goals recieved at home? "
   ]
  },
  {
   "cell_type": "code",
   "execution_count": 63,
   "id": "0d6ea969",
   "metadata": {},
   "outputs": [
    {
     "data": {
      "text/plain": [
       "HomeTeam\n",
       "Liverpool     9\n",
       "Man City     15\n",
       "Name: FTAG, dtype: int32"
      ]
     },
     "execution_count": 63,
     "metadata": {},
     "output_type": "execute_result"
    }
   ],
   "source": [
    "# Team with least goals\n",
    "ndf.groupby(\"HomeTeam\")[\"FTAG\"].sum().sort_values(ascending=True).head(2)"
   ]
  },
  {
   "cell_type": "code",
   "execution_count": 68,
   "id": "126cd8a6",
   "metadata": {},
   "outputs": [
    {
     "data": {
      "text/html": [
       "<div>\n",
       "<style scoped>\n",
       "    .dataframe tbody tr th:only-of-type {\n",
       "        vertical-align: middle;\n",
       "    }\n",
       "\n",
       "    .dataframe tbody tr th {\n",
       "        vertical-align: top;\n",
       "    }\n",
       "\n",
       "    .dataframe thead th {\n",
       "        text-align: right;\n",
       "    }\n",
       "</style>\n",
       "<table border=\"1\" class=\"dataframe\">\n",
       "  <thead>\n",
       "    <tr style=\"text-align: right;\">\n",
       "      <th></th>\n",
       "      <th>HomeTeam</th>\n",
       "      <th>FTAG</th>\n",
       "    </tr>\n",
       "    <tr>\n",
       "      <th>HomeTeam</th>\n",
       "      <th></th>\n",
       "      <th></th>\n",
       "    </tr>\n",
       "  </thead>\n",
       "  <tbody>\n",
       "    <tr>\n",
       "      <th>Liverpool</th>\n",
       "      <td>19</td>\n",
       "      <td>9</td>\n",
       "    </tr>\n",
       "    <tr>\n",
       "      <th>Man City</th>\n",
       "      <td>19</td>\n",
       "      <td>15</td>\n",
       "    </tr>\n",
       "  </tbody>\n",
       "</table>\n",
       "</div>"
      ],
      "text/plain": [
       "           HomeTeam  FTAG\n",
       "HomeTeam                 \n",
       "Liverpool        19     9\n",
       "Man City         19    15"
      ]
     },
     "execution_count": 68,
     "metadata": {},
     "output_type": "execute_result"
    }
   ],
   "source": [
    "# Confirmation\n",
    "ndf.groupby(\"HomeTeam\")[[\"HomeTeam\", \"FTAG\"]].agg(\n",
    "    {\"HomeTeam\":\"size\", \"FTAG\":\"sum\"}).sort_values(by=\"FTAG\", ascending=True).head(2)"
   ]
  },
  {
   "cell_type": "markdown",
   "id": "42d941a3",
   "metadata": {},
   "source": [
    "### 7. Find team with most goals playing as a visitor ( away from home )?"
   ]
  },
  {
   "cell_type": "code",
   "execution_count": 59,
   "id": "dd055ab8",
   "metadata": {},
   "outputs": [
    {
     "data": {
      "text/plain": [
       "AwayTeam\n",
       "Liverpool    45\n",
       "Name: FTAG, dtype: int32"
      ]
     },
     "execution_count": 59,
     "metadata": {},
     "output_type": "execute_result"
    }
   ],
   "source": [
    "# Team with most goals\n",
    "ndf.groupby(\"AwayTeam\")[\"FTAG\"].sum().sort_values(ascending=False).head(1)"
   ]
  },
  {
   "cell_type": "code",
   "execution_count": null,
   "id": "1e281b60",
   "metadata": {},
   "outputs": [],
   "source": [
    "# Confirmation\n",
    "ndf[ndf[\"AwayTeam\"] == \"Liverpool\"][\"FTAG\"].sum()"
   ]
  },
  {
   "cell_type": "markdown",
   "id": "413044b8",
   "metadata": {},
   "source": [
    "# DATA VISUALIZATION"
   ]
  },
  {
   "cell_type": "markdown",
   "id": "7e6c72d0",
   "metadata": {},
   "source": [
    "### 1. Find average goals per season?"
   ]
  },
  {
   "cell_type": "code",
   "execution_count": 72,
   "id": "074f2c79",
   "metadata": {},
   "outputs": [
    {
     "data": {
      "text/plain": [
       "Text(0.5, 1.0, 'Average goals per season')"
      ]
     },
     "execution_count": 72,
     "metadata": {},
     "output_type": "execute_result"
    },
    {
     "data": {
      "image/png": "[encoded data removed]",
      "text/plain": [
       "<Figure size 640x480 with 1 Axes>"
      ]
     },
     "metadata": {},
     "output_type": "display_data"
    }
   ],
   "source": [
    "# Average goals per season\n",
    "ndf.groupby(\"Date\")[\"TotalGoals\"].mean().head(10).plot(kind=\"bar\")\n",
    "plt.xlabel(\"Date\", fontsize=18)\n",
    "plt.title(\"Average goals per season\", fontsize=30)"
   ]
  },
  {
   "cell_type": "markdown",
   "id": "c8e3aeee",
   "metadata": {},
   "source": [
    "### 2. Teams with most away wins"
   ]
  },
  {
   "cell_type": "code",
   "execution_count": 77,
   "id": "852ae5ec",
   "metadata": {},
   "outputs": [
    {
     "data": {
      "text/plain": [
       "<Axes: ylabel='count'>"
      ]
     },
     "execution_count": 77,
     "metadata": {},
     "output_type": "execute_result"
    },
    {
     "data": {
      "image/png": "[encoded data removed]",
      "text/plain": [
       "<Figure size 640x480 with 1 Axes>"
      ]
     },
     "metadata": {},
     "output_type": "display_data"
    }
   ],
   "source": [
    "ndf.loc[ndf[\"HTR\"] == \"A\"][\"AwayTeam\"].value_counts().sort_values(\n",
    "    ascending=False).head(10).plot(kind=\"pie\", autopct=\"%0.1f%%\", cmap=\"summer\")"
   ]
  },
  {
   "cell_type": "markdown",
   "id": "c45182bf",
   "metadata": {},
   "source": [
    "### 3. Teams with most goals at home"
   ]
  },
  {
   "cell_type": "code",
   "execution_count": 87,
   "id": "c0be84fd",
   "metadata": {},
   "outputs": [
    {
     "data": {
      "text/plain": [
       "<Axes: ylabel='FTHG'>"
      ]
     },
     "execution_count": 87,
     "metadata": {},
     "output_type": "execute_result"
    },
    {
     "data": {
      "image/png": "[encoded data removed]",
      "text/plain": [
       "<Figure size 640x480 with 1 Axes>"
      ]
     },
     "metadata": {},
     "output_type": "display_data"
    }
   ],
   "source": [
    "ndf.groupby(\"HomeTeam\")[\"FTHG\"].sum().sort_values(\n",
    "    ascending=False).head(10).plot(kind=\"pie\", autopct=\"%0.1f%%\", cmap=\"summer\", explode=[0.3, 0.2, 0.1, 0, 0, 0, 0 ,0 , 0, 0])"
   ]
  },
  {
   "cell_type": "markdown",
   "id": "7b1f0571",
   "metadata": {},
   "source": [
    "### 4. Teams with least goals recieved at home"
   ]
  },
  {
   "cell_type": "code",
   "execution_count": 90,
   "id": "c1602294",
   "metadata": {},
   "outputs": [
    {
     "data": {
      "text/plain": [
       "<Axes: ylabel='FTAG'>"
      ]
     },
     "execution_count": 90,
     "metadata": {},
     "output_type": "execute_result"
    },
    {
     "data": {
      "image/png": "[encoded data removed]",
      "text/plain": [
       "<Figure size 640x480 with 1 Axes>"
      ]
     },
     "metadata": {},
     "output_type": "display_data"
    }
   ],
   "source": [
    "# Team with least goals\n",
    "ndf.groupby(\"HomeTeam\")[\"FTAG\"].sum().sort_values(\n",
    "    ascending=True).head(10).plot(kind=\"pie\", autopct=\"%0.1f%%\", cmap=\"jet\", explode=[0.3, 0.2, 0.1, 0, 0, 0, 0 ,0 , 0, 0])"
   ]
  },
  {
   "cell_type": "markdown",
   "id": "47a159dc",
   "metadata": {},
   "source": [
    "### 5. Teams with most goals playing as a visitor ( away team )"
   ]
  },
  {
   "cell_type": "code",
   "execution_count": 89,
   "id": "3ecfddf7",
   "metadata": {},
   "outputs": [
    {
     "data": {
      "text/plain": [
       "<Axes: ylabel='FTAG'>"
      ]
     },
     "execution_count": 89,
     "metadata": {},
     "output_type": "execute_result"
    },
    {
     "data": {
      "image/png": "[encoded data removed]",
      "text/plain": [
       "<Figure size 640x480 with 1 Axes>"
      ]
     },
     "metadata": {},
     "output_type": "display_data"
    }
   ],
   "source": [
    "# Team with most goals\n",
    "ndf.groupby(\"AwayTeam\")[\"FTAG\"].sum().sort_values(\n",
    "    ascending=False).head(10).plot(kind=\"pie\", autopct=\"%0.1f%%\", cmap=\"viridis\", explode=[0.3, 0.2, 0.1, 0, 0, 0, 0 ,0 , 0, 0])"
   ]
  },
  {
   "cell_type": "code",
   "execution_count": null,
   "id": "61f6cd60",
   "metadata": {},
   "outputs": [],
   "source": []
  }
 ],
 "metadata": {
  "kernelspec": {
   "display_name": "Python 3 (ipykernel)",
   "language": "python",
   "name": "python3"
  },
  "language_info": {
   "codemirror_mode": {
    "name": "ipython",
    "version": 3
   },
   "file_extension": ".py",
   "mimetype": "text/x-python",
   "name": "python",
   "nbconvert_exporter": "python",
   "pygments_lexer": "ipython3",
   "version": "3.11.4"
  }
 },
 "nbformat": 4,
 "nbformat_minor": 5
}
